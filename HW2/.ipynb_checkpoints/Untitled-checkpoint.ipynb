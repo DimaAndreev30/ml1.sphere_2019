{
 "cells": [
  {
   "cell_type": "code",
   "execution_count": null,
   "metadata": {},
   "outputs": [],
   "source": [
    "import numpy as np\n",
    "\n",
    "class mkfold:\n",
    "    def __init__(self, groups):\n",
    "        self.n = groups[-1]\n",
    "        self.groups_indices = np.zeros(shape=(self.n, ))\n",
    "        self.groups_indices[1:] = np.where(groups[:-1] != groups[1:])[0]\n",
    "        \n",
    "    def split(self, k_folds):\n",
    "        \n",
    "        \n",
    "        if k not in self.groups_indices_k:\n",
    "        indices = [(a[0], b[1])\n",
    "                   for a, *_, b in list_of_lists(groups_indices, k)]\n",
    "        groups_indices_k[k] = indices\n",
    "        "
   ]
  }
 ],
 "metadata": {
  "kernelspec": {
   "display_name": "Python 3",
   "language": "python",
   "name": "python3"
  },
  "language_info": {
   "codemirror_mode": {
    "name": "ipython",
    "version": 3
   },
   "file_extension": ".py",
   "mimetype": "text/x-python",
   "name": "python",
   "nbconvert_exporter": "python",
   "pygments_lexer": "ipython3",
   "version": "3.7.4"
  }
 },
 "nbformat": 4,
 "nbformat_minor": 2
}
