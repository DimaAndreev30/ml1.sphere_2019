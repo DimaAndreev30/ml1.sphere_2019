{
 "cells": [
  {
   "cell_type": "code",
   "execution_count": 2,
   "metadata": {},
   "outputs": [],
   "source": [
    "import numpy as np\n",
    "import pandas as pd\n",
    "import matplotlib.pyplot as plt"
   ]
  },
  {
   "cell_type": "code",
   "execution_count": 3,
   "metadata": {},
   "outputs": [
    {
     "name": "stdout",
     "output_type": "stream",
     "text": [
      "Number of titles = 28026\n",
      "Number of empty titles = 32\n",
      "Examples:\n",
      "     ВАЗ 21213 | Замена подшипников ступицы | Нива\n",
      "     Ваз 2107 оптом в Сочи. Сравнить цены, купить потребительские товары на Tiu.ru\n",
      "     Купить ступица Лада калина2. Трансмиссия - переходные ступицы цена, замена, тюнинг.\n"
     ]
    }
   ],
   "source": [
    "# Считываем данные о заголовках:\n",
    "\n",
    "empty_title_count = 0\n",
    "doc_to_title = {}\n",
    "with open('docs_titles.tsv') as f:\n",
    "    next(f)\n",
    "    for line in f:\n",
    "        data = line.strip().split('\\t', 1)\n",
    "        doc_id = int(data[0])\n",
    "        if len(data) == 1:\n",
    "            title = ''\n",
    "            empty_title_count += 1\n",
    "        else:\n",
    "            title = data[1]\n",
    "        doc_to_title[doc_id] = title\n",
    "\n",
    "print('Number of titles =', len(doc_to_title))\n",
    "print('Number of empty titles =', empty_title_count)\n",
    "print('Examples:')\n",
    "for _, title in zip(range(3), doc_to_title.values()):\n",
    "    print('    ', title)"
   ]
  },
  {
   "cell_type": "markdown",
   "metadata": {},
   "source": [
    "# Анализ данных\n",
    "громко сказано, кншн :D"
   ]
  },
  {
   "cell_type": "code",
   "execution_count": 3,
   "metadata": {},
   "outputs": [
    {
     "name": "stdout",
     "output_type": "stream",
     "text": [
      "(' ', 231840)\n",
      "('о', 116687)\n",
      "('а', 108891)\n",
      "('и', 97876)\n",
      "('е', 93772)\n",
      "('н', 77139)\n",
      "('т', 76931)\n",
      "('р', 68968)\n",
      "('с', 60524)\n",
      "('к', 53239)\n",
      "('в', 49027)\n",
      "('л', 45806)\n",
      "('м', 32252)\n",
      "('д', 31969)\n",
      "('п', 29434)\n",
      "('у', 28814)\n",
      "('ы', 24732)\n",
      "('ь', 22652)\n",
      "('я', 20265)\n",
      "('г', 18462)\n",
      "('б', 17632)\n",
      "('й', 17166)\n",
      "('з', 16953)\n",
      "('-', 16666)\n",
      "('.', 15277)\n",
      "('ч', 13953)\n",
      "('К', 11561)\n",
      "('С', 10653)\n",
      "('e', 10314)\n",
      "('х', 9765)\n",
      "(',', 8831)\n",
      "('О', 8447)\n",
      "('ц', 8251)\n",
      "('a', 8215)\n",
      "('r', 7905)\n",
      "('i', 7744)\n",
      "('ж', 7535)\n",
      "('o', 7126)\n",
      "('П', 7065)\n",
      "('А', 6582)\n",
      "('ш', 6514)\n",
      "('n', 6453)\n",
      "('t', 6216)\n",
      "('ф', 6199)\n",
      "('u', 6179)\n",
      "(':', 6047)\n",
      "('Р', 5971)\n",
      "('В', 5726)\n",
      "('1', 5447)\n",
      "('И', 5385)\n",
      "('0', 5161)\n",
      "('Н', 4909)\n",
      "('s', 4894)\n",
      "('2', 4833)\n",
      "('|', 4830)\n",
      "('М', 4738)\n",
      "('ю', 4670)\n",
      "('Д', 4331)\n",
      "('Т', 4308)\n",
      "('l', 3830)\n",
      "('?', 3818)\n",
      "('Е', 3458)\n",
      "('Л', 3064)\n",
      "('Б', 3055)\n",
      "('d', 2863)\n",
      "('Ф', 2785)\n",
      "('m', 2759)\n",
      "(')', 2735)\n",
      "('щ', 2667)\n",
      "('(', 2627)\n",
      "('Г', 2497)\n",
      "('R', 2424)\n",
      "('c', 2359)\n",
      "('У', 2339)\n",
      "('Ч', 2299)\n",
      "('S', 2291)\n",
      "('3', 2199)\n",
      "('b', 2191)\n",
      "('M', 2176)\n",
      "('З', 2064)\n",
      "('4', 2062)\n",
      "('\"', 2040)\n",
      "('T', 2023)\n",
      "('g', 1933)\n",
      "('I', 1874)\n",
      "('5', 1861)\n",
      "('p', 1812)\n",
      "('A', 1802)\n",
      "('v', 1761)\n",
      "('L', 1716)\n",
      "('э', 1615)\n",
      "('k', 1543)\n",
      "('/', 1466)\n",
      "('6', 1460)\n",
      "('h', 1458)\n",
      "('P', 1453)\n",
      "('—', 1441)\n",
      "('7', 1392)\n",
      "('!', 1329)\n",
      "('»', 1315)\n",
      "('y', 1313)\n",
      "('C', 1268)\n",
      "('f', 1249)\n",
      "('E', 1241)\n",
      "('D', 1230)\n",
      "('Я', 1142)\n",
      "('w', 1052)\n",
      "('9', 1050)\n",
      "('Х', 1001)\n",
      "('8', 996)\n",
      "('B', 978)\n",
      "('W', 898)\n",
      "('F', 884)\n",
      "('O', 884)\n",
      "('Э', 876)\n",
      "('«', 869)\n",
      "('N', 858)\n",
      "('G', 857)\n",
      "('Ж', 850)\n",
      "('Ш', 789)\n",
      "('[', 783)\n",
      "(']', 783)\n",
      "('U', 781)\n",
      "('Y', 768)\n",
      "('V', 716)\n",
      "('Ц', 706)\n",
      "('Ы', 687)\n",
      "('@', 675)\n",
      "('x', 645)\n",
      "('ё', 640)\n",
      "('H', 585)\n",
      "('Ь', 555)\n",
      "('Й', 542)\n",
      "('K', 541)\n",
      "('z', 538)\n",
      "('–', 479)\n",
      "('Ю', 398)\n",
      "('X', 383)\n",
      "('ъ', 363)\n",
      "('№', 356)\n",
      "('>', 325)\n",
      "('•', 274)\n",
      "('Z', 255)\n",
      "('~', 253)\n",
      "('\\xa0', 200)\n",
      "('_', 186)\n",
      "('+', 181)\n",
      "('J', 172)\n",
      "(\"'\", 172)\n",
      "('j', 145)\n",
      "('Щ', 132)\n",
      "('Q', 122)\n",
      "('&', 96)\n",
      "('*', 81)\n",
      "(';', 74)\n",
      "('q', 66)\n",
      "('#', 62)\n",
      "('і', 61)\n",
      "('…', 54)\n",
      "('Ð', 49)\n",
      "('=', 31)\n",
      "('“', 27)\n",
      "('<', 27)\n",
      "('%', 23)\n",
      "('ї', 22)\n",
      "('\\\\', 21)\n",
      "('”', 20)\n",
      "('Ё', 20)\n",
      "('�', 20)\n",
      "('Ѕ', 18)\n",
      "('❶', 17)\n",
      "('\\ufeff', 17)\n",
      "('♥', 17)\n",
      "('’', 15)\n",
      "('®', 12)\n",
      "('📌', 12)\n",
      "('י', 11)\n",
      "('{', 11)\n",
      "('}', 11)\n",
      "('`', 11)\n",
      "('Ñ', 11)\n",
      "('¾', 11)\n",
      "('§', 10)\n",
      "('\\xad', 10)\n",
      "('🚩', 9)\n",
      "('І', 9)\n",
      "('Ъ', 9)\n",
      "('µ', 8)\n",
      "('✔', 8)\n",
      "('―', 7)\n",
      "('›', 7)\n",
      "('^', 7)\n",
      "('°', 6)\n",
      "('→', 6)\n",
      "('̾', 6)\n",
      "('¸', 6)\n",
      "('\\u3000', 6)\n",
      "('ا', 6)\n",
      "('►', 5)\n",
      "('❤', 5)\n",
      "('̆', 5)\n",
      "('●', 5)\n",
      "('͇', 5)\n",
      "('̿', 5)\n",
      "('・', 5)\n",
      "('🔍', 4)\n",
      "('©', 4)\n",
      "('\\x97', 4)\n",
      "('̮', 4)\n",
      "('̃', 4)\n",
      "('™', 4)\n",
      "('♫', 4)\n",
      "('·', 4)\n",
      "('★', 4)\n",
      "('▀', 4)\n",
      "('工', 4)\n",
      "('م', 4)\n",
      "('ر', 4)\n",
      "('๑', 4)\n",
      "('۩', 4)\n",
      "('⋆', 3)\n",
      "('\\u200b', 3)\n",
      "('$', 3)\n",
      "('✿', 3)\n",
      "('☺', 3)\n",
      "('қ', 3)\n",
      "('ש', 3)\n",
      "('נ', 3)\n",
      "('ת', 3)\n",
      "('ט', 3)\n",
      "('ר', 3)\n",
      "('ו', 3)\n",
      "('▲', 3)\n",
      "('✦', 3)\n",
      "('½', 3)\n",
      "('´', 3)\n",
      "('☻', 3)\n",
      "('ㅤ', 3)\n",
      "('の', 3)\n",
      "('د', 3)\n",
      "('ل', 3)\n",
      "('▄', 3)\n",
      "('🍓', 3)\n",
      "('³', 3)\n",
      "('👍', 2)\n",
      "('☆', 2)\n",
      "('±', 2)\n",
      "('ג', 2)\n",
      "('ה', 2)\n",
      "('ד', 2)\n",
      "('ח', 2)\n",
      "('ל', 2)\n",
      "('á', 2)\n",
      "('¡', 2)\n",
      "('٩', 2)\n",
      "('۶', 2)\n",
      "('¬', 2)\n",
      "('͡', 2)\n",
      "('✈', 2)\n",
      "('👶', 2)\n",
      "('º', 2)\n",
      "('ă', 2)\n",
      "('ş', 2)\n",
      "('ë', 2)\n",
      "('█', 2)\n",
      "('夢', 2)\n",
      "('房', 2)\n",
      "('ま', 2)\n",
      "('土', 2)\n",
      "('曜', 2)\n",
      "('日', 2)\n",
      "('ン', 2)\n",
      "('イ', 2)\n",
      "('に', 2)\n",
      "('田', 2)\n",
      "('😂', 2)\n",
      "('ش', 2)\n",
      "('خ', 2)\n",
      "('ت', 2)\n",
      "('ک', 2)\n",
      "('س', 2)\n",
      "('ن', 2)\n",
      "('♍', 2)\n",
      "('♎', 2)\n",
      "('ه', 2)\n",
      "('ي', 2)\n",
      "('×', 2)\n",
      "('🍦', 2)\n",
      "('Ž', 2)\n",
      "('❀', 2)\n",
      "('¼', 2)\n",
      "('╬', 1)\n",
      "('‒', 1)\n",
      "('의', 1)\n",
      "('잡', 1)\n",
      "('동', 1)\n",
      "('사', 1)\n",
      "('니', 1)\n",
      "('İ', 1)\n",
      "('є', 1)\n",
      "('♂', 1)\n",
      "('Ż', 1)\n",
      "('ң', 1)\n",
      "('ү', 1)\n",
      "('\\u200d', 1)\n",
      "('ј', 1)\n",
      "('ק', 1)\n",
      "('פ', 1)\n",
      "('א', 1)\n",
      "('🔴', 1)\n",
      "('▸', 1)\n",
      "('⇨', 1)\n",
      "('💪', 1)\n",
      "('📍', 1)\n",
      "('💕', 1)\n",
      "('💵', 1)\n",
      "('ß', 1)\n",
      "('📹', 1)\n",
      "('͜', 1)\n",
      "('ʖ', 1)\n",
      "('💇', 1)\n",
      "('🏽', 1)\n",
      "('🏡', 1)\n",
      "('ä', 1)\n",
      "('⚠', 1)\n",
      "('️', 1)\n",
      "('ê', 1)\n",
      "('â', 1)\n",
      "('î', 1)\n",
      "('Α', 1)\n",
      "('Η', 1)\n",
      "('ღ', 1)\n",
      "('Ә', 1)\n",
      "('Ó', 1)\n",
      "('🎬', 1)\n",
      "('➋', 1)\n",
      "('ブ', 1)\n",
      "('ロ', 1)\n",
      "('グ', 1)\n",
      "('！', 1)\n",
      "('め', 1)\n",
      "('ざ', 1)\n",
      "('し', 1)\n",
      "('『', 1)\n",
      "('ニ', 1)\n",
      "('ャ', 1)\n",
      "('コ', 1)\n",
      "('』', 1)\n",
      "('｜', 1)\n",
      "('建', 1)\n",
      "('築', 1)\n",
      "('デ', 1)\n",
      "('ザ', 1)\n",
      "('設', 1)\n",
      "('計', 1)\n",
      "('事', 1)\n",
      "('施', 1)\n",
      "('管', 1)\n",
      "('理', 1)\n",
      "('こ', 1)\n",
      "('と', 1)\n",
      "('な', 1)\n",
      "('ら', 1)\n",
      "('有', 1)\n",
      "('お', 1)\n",
      "('か', 1)\n",
      "('せ', 1)\n",
      "('く', 1)\n",
      "('だ', 1)\n",
      "('さ', 1)\n",
      "('い', 1)\n",
      "('＜', 1)\n",
      "('静', 1)\n",
      "('岡', 1)\n",
      "('県', 1)\n",
      "('東', 1)\n",
      "('部', 1)\n",
      "('／', 1)\n",
      "('方', 1)\n",
      "('郡', 1)\n",
      "('函', 1)\n",
      "('南', 1)\n",
      "('町', 1)\n",
      "('＞', 1)\n",
      "('🚌', 1)\n",
      "('ص', 1)\n",
      "('و', 1)\n",
      "('ج', 1)\n",
      "('➤', 1)\n",
      "('狂', 1)\n",
      "('っ', 1)\n",
      "('た', 1)\n",
      "('世', 1)\n",
      "('界', 1)\n",
      "('💤', 1)\n",
      "('🎂', 1)\n",
      "('😉', 1)\n",
      "('∞', 1)\n",
      "('◄', 1)\n",
      "('¦', 1)\n",
      "('カ', 1)\n",
      "('ッ', 1)\n",
      "('プ', 1)\n",
      "('ア', 1)\n",
      "('ド', 1)\n",
      "('ル', 1)\n",
      "('疋', 1)\n",
      "('紗', 1)\n",
      "('也', 1)\n",
      "('、', 1)\n",
      "('趣', 1)\n",
      "('味', 1)\n",
      "('は', 1)\n",
      "('🙈', 1)\n",
      "('■', 1)\n",
      "('″', 1)\n",
      "('≡', 1)\n",
      "('Ї', 1)\n",
      "('☣', 1)\n",
      "('ق', 1)\n",
      "('ب', 1)\n",
      "('چ', 1)\n",
      "('پ', 1)\n",
      "('é', 1)\n",
      "('š', 1)\n",
      "('í', 1)\n",
      "('́', 1)\n",
      "('‹', 1)\n",
      "('ž', 1)\n",
      "('🍰', 1)\n",
      "('¹', 1)\n",
      "('¢', 1)\n",
      "('¿', 1)\n",
      "('¶', 1)\n",
      "('²', 1)\n"
     ]
    }
   ],
   "source": [
    "# Посмотрим, из чего строятся заголовки:\n",
    "\n",
    "import collections\n",
    "\n",
    "counter = collections.Counter()\n",
    "for title in doc_to_title.values():\n",
    "    for symbol in title:\n",
    "        counter[symbol] += 1\n",
    "print(*counter.most_common(), sep = '\\n')"
   ]
  },
  {
   "cell_type": "markdown",
   "metadata": {},
   "source": [
    "Основные имеющие значения символы - буквы русского и английского алфавитов"
   ]
  },
  {
   "cell_type": "markdown",
   "metadata": {},
   "source": [
    "# Извлечение признаков"
   ]
  },
  {
   "cell_type": "code",
   "execution_count": 4,
   "metadata": {},
   "outputs": [],
   "source": [
    "import re\n",
    "from sklearn.feature_extraction.text import TfidfVectorizer\n",
    "from nltk.stem import WordNetLemmatizer\n",
    "from nltk.stem.snowball import SnowballStemmer\n",
    "from nltk.corpus import stopwords\n",
    "\n",
    "from sklearn.metrics import pairwise_distances"
   ]
  },
  {
   "cell_type": "code",
   "execution_count": 5,
   "metadata": {},
   "outputs": [],
   "source": [
    "stop_words = set(stopwords.words([\"russian\", \"english\"]))"
   ]
  },
  {
   "cell_type": "code",
   "execution_count": 6,
   "metadata": {},
   "outputs": [],
   "source": [
    "stemmerR = SnowballStemmer(\"russian\")\n",
    "stemmerE = SnowballStemmer(\"english\")"
   ]
  },
  {
   "cell_type": "code",
   "execution_count": 7,
   "metadata": {},
   "outputs": [],
   "source": [
    "class Parser:\n",
    "    \"\"\"\n",
    "    Тем или иным способом разбивает заголовок на слова\n",
    "    Способ задается параметром pattern\n",
    "    \"\"\"\n",
    "    \n",
    "    def __init__(self, pattern='smart'):\n",
    "        if pattern == 'simple':\n",
    "            self.split_title = self.simple\n",
    "        elif pattern == 'smart':\n",
    "            self.split_title = self.smart\n",
    "        elif pattern == 'smartest':\n",
    "            self.split_title = self.smartest\n",
    "        else:\n",
    "            raise ValueError(\"unrecognized pattern: \" + pattern)\n",
    "    \n",
    "    @staticmethod\n",
    "    def simple(title):\n",
    "        return title.split()\n",
    "    \n",
    "    @staticmethod\n",
    "    def smart(title):\n",
    "        title = title.lower()\n",
    "        words = [stemmerR.stem(stemmerE.stem(word)) for word in re.sub('[^a-zа-я0-9]', ' ', title).split() \n",
    "                 if not word in stop_words]\n",
    "        return [word for word in words if not word in stop_words]\n",
    "            \n",
    "    def transform(self, titles_dict):\n",
    "        words_dict = {}\n",
    "        for ID, title in titles_dict.items():\n",
    "            words_dict[ID] = self.split_title(title)\n",
    "        return words_dict"
   ]
  },
  {
   "cell_type": "code",
   "execution_count": 1,
   "metadata": {},
   "outputs": [],
   "source": [
    "class Collecter:\n",
    "    \"\"\"\n",
    "    Тем или иным способом собирает фичи из заголовков\n",
    "    Способ задается параметром features\n",
    "    \"\"\"\n",
    "\n",
    "    def __init__(self, doc_to_title, features='tf-idf+groups'):\n",
    "\n",
    "        self.feat_type = np.float\n",
    "        \n",
    "        features = features.split('+')\n",
    "        if features[0] == 'simple':\n",
    "            self.doc_to_vec = doc_to_title\n",
    "            self.n_features = 15\n",
    "            self.extract_features = self.jaccard\n",
    "        elif features[0] == 'tf-idf':\n",
    "            doc_to_title[0] = ''\n",
    "            self.doc_to_vec = TfidfVectorizer().fit_transform(\n",
    "                [' '.join(doc_to_title[i]) for i in range(len(doc_to_title))])\n",
    "            self.n_features = 20\n",
    "            if 'groups' in features:\n",
    "                self.n_features *= 2\n",
    "                self.extract_features = self.cosine_plus\n",
    "            else: \n",
    "                self.extract_features = self.cosine\n",
    "        else:\n",
    "            raise ValueError(\"unrecognized features type: \" + features[0])\n",
    "            \n",
    "    def jaccard(self, group):\n",
    "        X = np.empty(shape=(group.size, self.n_features), dtype=self.feat_type)\n",
    "        \n",
    "        for i, doc_ID in enumerate(group):\n",
    "            dist = np.empty(shape=(group.size, ), dtype=self.feat_type)\n",
    "            vec = set(self.doc_to_vec[doc_ID])\n",
    "            for j, doc_j in enumerate(group):\n",
    "                if doc_ID == doc_j:\n",
    "                    dist[j] = 0\n",
    "                else:\n",
    "                    vec_j = set(self.doc_to_vec[doc_j])\n",
    "                    intersec = len(vec.intersection(vec_j))\n",
    "                    if intersec > 0:\n",
    "                        dist[j] = intersec/(len(vec) + len(vec_j) - intersec)\n",
    "                    else:\n",
    "                        dist[j] = 0\n",
    "            X[i] = np.sort(dist)[-self.n_features:]\n",
    "\n",
    "        return X\n",
    "    \n",
    "    def cosine(self, group):\n",
    "        X = np.empty(shape=(group.size, self.n_features), dtype=self.feat_type)\n",
    "        for i, title in enumerate(pairwise_distances(self.doc_to_vec[group], metric='cosine')):\n",
    "            X[i] = sorted(title)[1:self.n_features + 1]\n",
    "            \n",
    "        return X\n",
    "    \n",
    "    def cosine_plus(self, group):\n",
    "        n = self.n_features//2\n",
    "        X = np.empty(shape=(group.size, self.n_features), dtype=self.feat_type)\n",
    "        for i, title in enumerate(pairwise_distances(self.doc_to_vec[group], metric='cosine')):\n",
    "            X[i, :n] = sorted(title)[1:n + 1]\n",
    "        X[:, n:] = np.mean(X[:, :n], axis=0)\n",
    "        X[:, :n] /= X[:, n:]\n",
    "        \n",
    "        return X\n",
    "            \n",
    "    def collect_from(self, file):\n",
    "        data = pd.read_csv(file)\n",
    "        groups = data.groupby('group_id')\n",
    "\n",
    "        if 'target' in data.columns:\n",
    "            X = np.empty(shape=(data.shape[0], self.n_features), dtype=self.feat_type)\n",
    "            y = np.empty(shape=(data.shape[0], ), dtype=bool)\n",
    "            group_ids = np.empty(shape=(data.shape[0], ), dtype=int)\n",
    "\n",
    "            i = 0\n",
    "            for group_id, group_indx in groups.groups.items():\n",
    "                j = i + group_indx.size\n",
    "                group = data.iloc[group_indx]\n",
    "                group_ids[i:j] = group_id\n",
    "                y[i:j] = group.target\n",
    "                X[i:j] = self.extract_features(group.doc_id)\n",
    "                i = j\n",
    "\n",
    "            return X, y, group_ids\n",
    "        else:\n",
    "            X = np.empty(shape=(data.shape[0], self.n_features), dtype=self.feat_type)\n",
    "            pair_ids = np.empty(shape=(data.shape[0], ), dtype=int)\n",
    "\n",
    "            i = 0\n",
    "            for group_id, group_indx in groups.groups.items():\n",
    "                j = i + group_indx.size\n",
    "                group = data.iloc[group_indx]\n",
    "                pair_ids[i:j] = group.pair_id\n",
    "                X[i:j] = self.extract_features(group.doc_id)\n",
    "                i = j\n",
    "\n",
    "            return X, pair_ids\n"
   ]
  },
  {
   "cell_type": "markdown",
   "metadata": {},
   "source": [
    "# Обучение"
   ]
  },
  {
   "cell_type": "code",
   "execution_count": 8,
   "metadata": {},
   "outputs": [],
   "source": [
    "from sklearn.metrics import f1_score, make_scorer\n",
    "from sklearn.preprocessing import StandardScaler\n",
    "from sklearn.model_selection import KFold, GroupKFold\n",
    "from sklearn.linear_model import LogisticRegression, LinearRegression\n",
    "from sklearn.tree import DecisionTreeClassifier\n",
    "from sklearn.ensemble import BaggingClassifier\n",
    "from sklearn.ensemble import RandomForestClassifier\n",
    "from sklearn.model_selection import validation_curve\n",
    "from sklearn.svm import SVC"
   ]
  },
  {
   "cell_type": "code",
   "execution_count": 26,
   "metadata": {},
   "outputs": [],
   "source": [
    "def th_def(cls, X):\n",
    "    cls.predict(X)\n",
    "def th_pred(cls, X):\n",
    "    return cls.predict(X)\n",
    "def th_pred_proba(cls, X):\n",
    "    return cls.predict_proba(X)[:, 1]\n",
    "\n",
    "def KFold_score(cls, X, y, groups, th, pred, k=5):\n",
    "    result = 0\n",
    "    for train, test in GroupKFold(n_splits=k).split(X, y, groups):\n",
    "        cls.fit(X[train], y[train])\n",
    "        result += f1_score(y[test], pred(cls, X[test]) > th)\n",
    "    return result / k\n",
    "\n",
    "def best_th(cls, X, y, groups, pred, k=5):\n",
    "    space = np.linspace(0.1, 0.9, 25)\n",
    "    result = np.zeros_like(space)\n",
    "    for train, test in GroupKFold(n_splits=k).split(X, y, groups):\n",
    "        cls.fit(X[train], y[train])\n",
    "        predict = pred(cls, X[test])\n",
    "        \n",
    "        for i, th in enumerate(space):\n",
    "            result[i] += f1_score(y[test], predict > th)\n",
    "\n",
    "    best = np.argmax(result)\n",
    "    return space[best], result[best] / k"
   ]
  },
  {
   "cell_type": "markdown",
   "metadata": {},
   "source": [
    "Первые шаги:"
   ]
  },
  {
   "cell_type": "code",
   "execution_count": 20,
   "metadata": {},
   "outputs": [
    {
     "data": {
      "text/plain": [
       "(0.30000000000000004, 0.6314784298147564)"
      ]
     },
     "execution_count": 20,
     "metadata": {},
     "output_type": "execute_result"
    }
   ],
   "source": [
    "# 1\n",
    "# Фичи выбираются как максимальные меры Жаккарда между заголовками документа, \n",
    "# разбитыми по пробельным символам\n",
    "\n",
    "parser = Parser(pattern='simple')\n",
    "vec = parser.transform(doc_to_title)\n",
    "collecter = Collecter(vec, features='simple')\n",
    "X_train, y_train, groups_train = collecter.collect_from('train_groups.csv')\n",
    "scaler = StandardScaler()\n",
    "scaler.fit(X_train)\n",
    "X_train = scaler.transform(X_train)\n",
    "\n",
    "cls = LogisticRegression(solver='lbfgs', max_iter=1000)\n",
    "th, f1 = best_th(cls, X_train, y_train, groups_train, th_pred_proba)\n",
    "cls.fit(X_train, y_train)\n",
    "th, f1"
   ]
  },
  {
   "cell_type": "code",
   "execution_count": 27,
   "metadata": {},
   "outputs": [
    {
     "data": {
      "text/plain": [
       "(0.26666666666666666, 0.6961116782012919)"
      ]
     },
     "execution_count": 27,
     "metadata": {},
     "output_type": "execute_result"
    }
   ],
   "source": [
    "# 2\n",
    "# Фичи выбираются как максимальные меры Жаккарда между заголовками документа.\n",
    "# Заголовки разбиваются на слова, подвергающиеся некоторой обработке\n",
    "\n",
    "parser = Parser()\n",
    "vec = parser.transform(doc_to_title)\n",
    "collecter = Collecter(vec, features='simple')\n",
    "X_train, y_train, groups_train = collecter.collect_from('train_groups.csv')\n",
    "scaler = StandardScaler()\n",
    "scaler.fit(X_train)\n",
    "X_train = scaler.transform(X_train)\n",
    "\n",
    "cls = LogisticRegression(solver='lbfgs', max_iter=1000)\n",
    "th, f1 = best_th(cls, X_train, y_train, groups_train, th_pred_proba)\n",
    "cls.fit(X_train, y_train)\n",
    "th, f1"
   ]
  },
  {
   "cell_type": "code",
   "execution_count": 69,
   "metadata": {},
   "outputs": [
    {
     "data": {
      "text/plain": [
       "(0.30000000000000004, 0.7265307521177471)"
      ]
     },
     "execution_count": 69,
     "metadata": {},
     "output_type": "execute_result"
    }
   ],
   "source": [
    "# 3\n",
    "# Фичи выбираются как минимальные косинусные расстояния между заголовками расстояния.\n",
    "# Заголовки представляются в векторном виде с применением tf-idf преобразования\n",
    "\n",
    "parser = Parser()\n",
    "vec = parser.transform(doc_to_title)\n",
    "collecter = Collecter(vec, features='tf-idf')\n",
    "X_train, y_train, groups_train = collecter.collect_from('train_groups.csv')\n",
    "scaler = StandardScaler()\n",
    "scaler.fit(X_train)\n",
    "X_train = scaler.transform(X_train)\n",
    "\n",
    "cls = LogisticRegression(solver='lbfgs', max_iter=1000)\n",
    "th, f1 = best_th(cls, X_train, y_train, groups_train, th_pred_proba)\n",
    "cls.fit(X_train, y_train)\n",
    "th, f1"
   ]
  },
  {
   "cell_type": "code",
   "execution_count": 34,
   "metadata": {},
   "outputs": [],
   "source": [
    "# 4\n",
    "# Пробуем обучиться на разных моделях:"
   ]
  },
  {
   "cell_type": "code",
   "execution_count": 12,
   "metadata": {},
   "outputs": [],
   "source": [
    "parser = Parser()\n",
    "vec = parser.transform(doc_to_title)"
   ]
  },
  {
   "cell_type": "code",
   "execution_count": 37,
   "metadata": {},
   "outputs": [],
   "source": [
    "collecter = Collecter(vec, features='tf-idf')\n",
    "X_train, y_train, groups_train = collecter.collect_from('train_groups.csv')"
   ]
  },
  {
   "cell_type": "code",
   "execution_count": 38,
   "metadata": {},
   "outputs": [],
   "source": [
    "scaler = StandardScaler()\n",
    "scaler.fit(X_train)\n",
    "X_train = scaler.transform(X_train)"
   ]
  },
  {
   "cell_type": "code",
   "execution_count": 39,
   "metadata": {},
   "outputs": [
    {
     "data": {
      "text/plain": [
       "(0.30000000000000004, 0.7265307521177471)"
      ]
     },
     "execution_count": 39,
     "metadata": {},
     "output_type": "execute_result"
    }
   ],
   "source": [
    "cls = LogisticRegression(solver='lbfgs', max_iter=1000)\n",
    "best_th(cls, X_train, y_train, groups_train, th_pred_proba)"
   ]
  },
  {
   "cell_type": "code",
   "execution_count": 40,
   "metadata": {},
   "outputs": [
    {
     "data": {
      "text/plain": [
       "(0.3666666666666667, 0.725401789308459)"
      ]
     },
     "execution_count": 40,
     "metadata": {},
     "output_type": "execute_result"
    }
   ],
   "source": [
    "cls = LinearRegression()\n",
    "best_th(cls, X_train, y_train, groups_train, th_pred)"
   ]
  },
  {
   "cell_type": "code",
   "execution_count": 41,
   "metadata": {},
   "outputs": [
    {
     "data": {
      "text/plain": [
       "(0.23333333333333334, 0.7081555486729109)"
      ]
     },
     "execution_count": 41,
     "metadata": {},
     "output_type": "execute_result"
    }
   ],
   "source": [
    "cls = SVC(C=1.0, degree=3, kernel='poly', probability=True, gamma='auto')\n",
    "best_th(cls, X_train, y_train, groups_train, th_pred_proba)"
   ]
  },
  {
   "cell_type": "code",
   "execution_count": 42,
   "metadata": {},
   "outputs": [
    {
     "data": {
      "text/plain": [
       "(0.33333333333333337, 0.7262446735365861)"
      ]
     },
     "execution_count": 42,
     "metadata": {},
     "output_type": "execute_result"
    }
   ],
   "source": [
    "cls = RandomForestClassifier(n_estimators=10, max_depth=4)\n",
    "best_th(cls, X_train, y_train, groups_train, th_pred_proba)"
   ]
  },
  {
   "cell_type": "markdown",
   "metadata": {},
   "source": [
    "Поподробнее остановимся на деревьях:"
   ]
  },
  {
   "cell_type": "code",
   "execution_count": 43,
   "metadata": {},
   "outputs": [
    {
     "data": {
      "text/plain": [
       "<matplotlib.legend.Legend at 0x7f9154f49c10>"
      ]
     },
     "execution_count": 43,
     "metadata": {},
     "output_type": "execute_result"
    },
    {
     "data": {
      "image/png": "[encoded data removed]",
      "text/plain": [
       "<Figure size 432x288 with 1 Axes>"
      ]
     },
     "metadata": {
      "needs_background": "light"
     },
     "output_type": "display_data"
    }
   ],
   "source": [
    "cv = GroupKFold(n_splits=5)\n",
    "depths = np.linspace(1, 25, 12, dtype=int)\n",
    "\n",
    "model = DecisionTreeClassifier(random_state=0)\n",
    "_, tree_valid_scores = validation_curve(\n",
    "    model, X_train, y_train, groups=groups_train, \n",
    "    param_name='max_depth', \n",
    "    param_range=depths, \n",
    "    scoring=make_scorer(f1_score), cv=cv, \n",
    "    n_jobs=-1)\n",
    "\n",
    "model = BaggingClassifier(DecisionTreeClassifier(), \n",
    "                          n_estimators=50, random_state=0)\n",
    "_, bag_valid_scores = validation_curve(\n",
    "    model, X_train, y_train, groups=groups_train, \n",
    "    param_name='base_estimator__max_depth', \n",
    "    param_range=depths, \n",
    "    scoring=make_scorer(f1_score), cv=cv, \n",
    "    n_jobs=-1)\n",
    "\n",
    "model = RandomForestClassifier(n_estimators=50, random_state=0, n_jobs=-1)\n",
    "_, forest_valid_scores = validation_curve(\n",
    "    model, X_train, y_train, groups=groups_train, \n",
    "    param_name='max_depth', \n",
    "    param_range=depths, \n",
    "    scoring=make_scorer(f1_score), cv=cv, \n",
    "    n_jobs=1)\n",
    "\n",
    "plt.plot(depths, bag_valid_scores.mean(axis=1), label='bag')\n",
    "plt.plot(depths, tree_valid_scores.mean(axis=1), label='tree')\n",
    "plt.plot(depths, forest_valid_scores.mean(axis=1), label='forest')\n",
    "plt.legend()"
   ]
  },
  {
   "cell_type": "markdown",
   "metadata": {},
   "source": [
    "Ну и апофеоз всего этого - объединим результаты показавших себя лучше прочих моделей:"
   ]
  },
  {
   "cell_type": "code",
   "execution_count": 20,
   "metadata": {},
   "outputs": [],
   "source": [
    "class combined_cls:\n",
    "    def __init__(self):\n",
    "        self.cls1 = LogisticRegression(solver='lbfgs', max_iter=1000, C=10.0)\n",
    "        self.cls2 = LinearRegression()\n",
    "        self.cls3 = RandomForestClassifier(n_estimators=50, max_depth=5, \n",
    "                                           random_state=0, n_jobs=-1)\n",
    "        # self.cls4 = SVC(C=1.0, degree=3, kernel='poly', probability=True, gamma='auto')\n",
    "        self.cls = LinearRegression()\n",
    "        \n",
    "    def fit(self, X, y):\n",
    "        self.cls1.fit(X, y)\n",
    "        self.cls2.fit(X, y)\n",
    "        self.cls3.fit(X, y)\n",
    "        # self.cls4.fit(X, y)\n",
    "        self.cls.fit(np.array([\n",
    "            self.cls1.predict_proba(X)[:, 1],\n",
    "            self.cls2.predict(X), \n",
    "            self.cls3.predict_proba(X)[:, 1]\n",
    "            # , self.cls4.predict_proba(X)[:, 1]\n",
    "        ]).T, y)\n",
    "        \n",
    "    def predict(self, X):\n",
    "        return self.cls.predict(np.array([\n",
    "            self.cls1.predict_proba(X)[:, 1],\n",
    "            self.cls2.predict(X), \n",
    "            self.cls3.predict_proba(X)[:, 1]\n",
    "            # , self.cls4.predict_proba(X)[:, 1]\n",
    "        ]).T)\n"
   ]
  },
  {
   "cell_type": "code",
   "execution_count": 80,
   "metadata": {},
   "outputs": [
    {
     "data": {
      "text/plain": [
       "(0.33333333333333337, 0.7241998082544692)"
      ]
     },
     "execution_count": 80,
     "metadata": {},
     "output_type": "execute_result"
    }
   ],
   "source": [
    "cls = combined_cls()\n",
    "th, f1 = best_th(cls, X_train, y_train, groups_train, th_pred)\n",
    "cls.fit(X_train, y_train)\n",
    "th, f1"
   ]
  },
  {
   "cell_type": "code",
   "execution_count": 10,
   "metadata": {},
   "outputs": [],
   "source": [
    "# 5\n",
    "# добавим фичи, характеризующие группу - средние от старых в пределах группы\n",
    "# другие варианты рассматривались, но до ума их довести не получилось"
   ]
  },
  {
   "cell_type": "code",
   "execution_count": 71,
   "metadata": {},
   "outputs": [
    {
     "data": {
      "text/plain": [
       "(0.4, 0.7533389073648966)"
      ]
     },
     "execution_count": 71,
     "metadata": {},
     "output_type": "execute_result"
    }
   ],
   "source": [
    "collecter = Collecter(vec)\n",
    "X_train, y_train, groups_train = collecter.collect_from('train_groups.csv')\n",
    "scaler = StandardScaler()\n",
    "scaler.fit(X_train)\n",
    "X_train = scaler.transform(X_train)\n",
    "cls = combined_cls()\n",
    "th, f1 = best_th(cls, X_train, y_train, groups_train, th_pred)\n",
    "cls.fit(X_train, y_train)\n",
    "th, f1"
   ]
  },
  {
   "cell_type": "code",
   "execution_count": 27,
   "metadata": {},
   "outputs": [
    {
     "data": {
      "text/plain": [
       "(0.4, 0.7578947637814246)"
      ]
     },
     "execution_count": 27,
     "metadata": {},
     "output_type": "execute_result"
    }
   ],
   "source": [
    "# то же, но фичи скалированны в группах\n",
    "\n",
    "collecter = Collecter(vec)\n",
    "X_train, y_train, groups_train = collecter.collect_from('train_groups.csv')\n",
    "scaler = StandardScaler()\n",
    "scaler.fit(X_train)\n",
    "X_train = scaler.transform(X_train)\n",
    "cls = combined_cls()\n",
    "th, f1 = best_th(cls, X_train, y_train, groups_train, th_pred)\n",
    "cls.fit(X_train, y_train)\n",
    "th, f1"
   ]
  },
  {
   "cell_type": "markdown",
   "metadata": {},
   "source": [
    "# Предсказание"
   ]
  },
  {
   "cell_type": "code",
   "execution_count": 22,
   "metadata": {},
   "outputs": [],
   "source": [
    "def save_result(pair_ids, predict, filename='predict.csv'):\n",
    "    with open(filename, 'w') as f:\n",
    "        print('pair_id,target', file = f)\n",
    "        for pair_id, target in zip(pair_ids, predict):\n",
    "            print(pair_id, int(target), sep=',', file=f)"
   ]
  },
  {
   "cell_type": "code",
   "execution_count": 23,
   "metadata": {},
   "outputs": [],
   "source": [
    "X_test, pair_ids = collecter.collect_from('test_groups.csv')\n",
    "X_test = scaler.transform(X_test)\n",
    "predict = cls.predict(X_test) > th\n",
    "save_result(pair_ids, predict, '8.csv')"
   ]
  },
  {
   "cell_type": "markdown",
   "metadata": {},
   "source": [
    "EOF"
   ]
  }
 ],
 "metadata": {
  "kernelspec": {
   "display_name": "Python 3",
   "language": "python",
   "name": "python3"
  },
  "language_info": {
   "codemirror_mode": {
    "name": "ipython",
    "version": 3
   },
   "file_extension": ".py",
   "mimetype": "text/x-python",
   "name": "python",
   "nbconvert_exporter": "python",
   "pygments_lexer": "ipython3",
   "version": "3.7.4"
  }
 },
 "nbformat": 4,
 "nbformat_minor": 2
}
